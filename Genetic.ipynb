{
 "cells": [
  {
   "cell_type": "code",
   "execution_count": 298,
   "metadata": {},
   "outputs": [],
   "source": [
    "import random\n",
    "\n",
    "POP_SIZE = 10\n",
    "MUT_RATE = 0.9"
   ]
  },
  {
   "cell_type": "code",
   "execution_count": 299,
   "metadata": {},
   "outputs": [],
   "source": [
    "def initial_population(POP_SIZE):\n",
    "    pop = list()\n",
    "    for _ in range(POP_SIZE):\n",
    "        temp = list()\n",
    "        for i in range(4):\n",
    "            temp.append(int(random.random()*10))\n",
    "        pop.append(temp)\n",
    "    return pop"
   ]
  },
  {
   "cell_type": "code",
   "execution_count": 300,
   "metadata": {},
   "outputs": [],
   "source": [
    "def fitness_cal(initial_pop):\n",
    "    fitness = 0\n",
    "    population = list()\n",
    "    for chromo in initial_pop:\n",
    "        fitness = 0\n",
    "        fitness = abs((chromo[0])+(2*chromo[1])+(3*chromo[2])+(4*chromo[3])-30)\n",
    "        prob = 1/(1+fitness)\n",
    "        population.append([prob, chromo])\n",
    "    return population"
   ]
  },
  {
   "cell_type": "code",
   "execution_count": 301,
   "metadata": {},
   "outputs": [],
   "source": [
    "def selection(initial_pop):\n",
    "    selected = list()\n",
    "    selected = sorted(initial_pop, key= lambda x : x[0], reverse=True)\n",
    "    return selected[:int(POP_SIZE*0.5)]"
   ]
  },
  {
   "cell_type": "code",
   "execution_count": 302,
   "metadata": {},
   "outputs": [],
   "source": [
    "def crossover(selected, initial_pop):\n",
    "\n",
    "    crossovered = list()\n",
    "    selected_pop = list()\n",
    "    ini_pop = list()\n",
    "    for chromo_selected in selected:\n",
    "        selected_pop.append(chromo_selected[1])\n",
    "\n",
    "    for chromo_ini in initial_pop:\n",
    "        ini_pop.append(chromo_ini[1])\n",
    "    c = 0\n",
    "    for chromo in selected_pop:\n",
    "        p1 = selected_pop[c]\n",
    "        p2 = ini_pop[c]\n",
    "        c+=1\n",
    "        crossover_point = random.randint(1, len(chromo)-1)\n",
    "        child1 =  p1[:crossover_point] + p2[crossover_point:]\n",
    "        child2 = p2[:crossover_point] + p1[crossover_point:]\n",
    "        crossovered.extend([child1, child2])\n",
    "    return crossovered"
   ]
  },
  {
   "cell_type": "code",
   "execution_count": 303,
   "metadata": {},
   "outputs": [],
   "source": [
    "def mutation(crossovered, MUT_RATE):\n",
    "    \n",
    "    for chromo in crossovered:\n",
    "        num = random.randrange(0,30)\n",
    "        index = random.randrange(0, len(chromo)-1)\n",
    "        prob = random.random()\n",
    "        if prob < MUT_RATE:\n",
    "            chromo[index] = num\n",
    "    return crossovered"
   ]
  },
  {
   "cell_type": "code",
   "execution_count": 304,
   "metadata": {},
   "outputs": [],
   "source": [
    "def replacement(new_gen, initial_pop):\n",
    "    for _ in range(len(initial_pop)):\n",
    "        if initial_pop[_][0] < new_gen[_][0]:\n",
    "          initial_pop[_][1] = new_gen[_][1]\n",
    "          initial_pop[_][0] = new_gen[_][0]\n",
    "    return initial_pop"
   ]
  },
  {
   "cell_type": "code",
   "execution_count": 305,
   "metadata": {},
   "outputs": [],
   "source": [
    "def main(MUT_RATE, POP_SIZE):\n",
    "    initial_pop = initial_population(POP_SIZE)\n",
    "    population = fitness_cal(initial_pop)\n",
    "    generation = 1\n",
    "    found = False\n",
    "\n",
    "    while not found and generation <=500:\n",
    "        selected = selection(population)\n",
    "        crossovered = crossover(selected, population)\n",
    "        mutated = mutation(crossovered, MUT_RATE)\n",
    "        new_gen = list()\n",
    "        new_gen = fitness_cal(mutated)\n",
    "        new_gen = sorted(new_gen, key= lambda x:x[0], reverse=True)\n",
    "        population = replacement(new_gen, population)\n",
    "        print('Generation: ' + str(generation) + ' Chromosome: ' + str(population[0]))\n",
    "        generation+=1\n",
    "\n",
    "        if population[0][0] == 1:\n",
    "            print('FOUND')\n",
    "            print(str(population[0][0]) + ' ' + str(population[0][1]))\n",
    "            found = True\n",
    "            "
   ]
  },
  {
   "cell_type": "code",
   "execution_count": 306,
   "metadata": {},
   "outputs": [
    {
     "name": "stdout",
     "output_type": "stream",
     "text": [
      "Generation: 1 Chromosome: [0.08333333333333333, [9, 7, 6, 0]]\n",
      "Generation: 2 Chromosome: [0.2, [13, 0, 3, 3]]\n",
      "Generation: 3 Chromosome: [0.25, [7, 1, 2, 3]]\n",
      "Generation: 4 Chromosome: [0.3333333333333333, [3, 4, 3, 3]]\n",
      "Generation: 5 Chromosome: [0.3333333333333333, [3, 4, 3, 3]]\n",
      "Generation: 6 Chromosome: [0.3333333333333333, [3, 4, 3, 3]]\n",
      "Generation: 7 Chromosome: [0.3333333333333333, [3, 4, 3, 3]]\n",
      "Generation: 8 Chromosome: [0.5, [14, 0, 5, 0]]\n",
      "Generation: 9 Chromosome: [0.5, [14, 0, 5, 0]]\n",
      "Generation: 10 Chromosome: [0.5, [14, 0, 5, 0]]\n",
      "Generation: 11 Chromosome: [0.5, [14, 0, 5, 0]]\n",
      "Generation: 12 Chromosome: [1.0, [11, 0, 5, 1]]\n",
      "FOUND\n",
      "1.0 [11, 0, 5, 1]\n"
     ]
    }
   ],
   "source": [
    "main (MUT_RATE, POP_SIZE)"
   ]
  }
 ],
 "metadata": {
  "kernelspec": {
   "display_name": "base",
   "language": "python",
   "name": "python3"
  },
  "language_info": {
   "codemirror_mode": {
    "name": "ipython",
    "version": 3
   },
   "file_extension": ".py",
   "mimetype": "text/x-python",
   "name": "python",
   "nbconvert_exporter": "python",
   "pygments_lexer": "ipython3",
   "version": "3.11.2"
  },
  "orig_nbformat": 4
 },
 "nbformat": 4,
 "nbformat_minor": 2
}
